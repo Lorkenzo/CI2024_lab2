{
 "cells": [
  {
   "cell_type": "markdown",
   "metadata": {},
   "source": [
    "# Lab2 - TSP EA solution"
   ]
  },
  {
   "cell_type": "code",
   "execution_count": 1,
   "metadata": {},
   "outputs": [
    {
     "name": "stderr",
     "output_type": "stream",
     "text": [
      "c:\\Users\\loren\\OneDrive\\Desktop\\CI repo\\labs\\Lab1\\CI2024_lab1\\lib\\site-packages\\tqdm\\auto.py:21: TqdmWarning: IProgress not found. Please update jupyter and ipywidgets. See https://ipywidgets.readthedocs.io/en/stable/user_install.html\n",
      "  from .autonotebook import tqdm as notebook_tqdm\n"
     ]
    }
   ],
   "source": [
    "from itertools import combinations\n",
    "import pandas as pd\n",
    "import numpy as np\n",
    "import geopy.distance\n",
    "import matplotlib.pyplot as plt\n",
    "import random\n",
    "from dataclasses import dataclass\n",
    "from tqdm.auto import tqdm"
   ]
  },
  {
   "cell_type": "code",
   "execution_count": 2,
   "metadata": {},
   "outputs": [],
   "source": [
    "CITIES = pd.read_csv('cities/russia.csv', header=None, names=['name', 'lat', 'lon'])\n",
    "\n",
    "POPULATION_SIZE = len(CITIES)*5\n",
    "OFFSPRING_SIZE = int(POPULATION_SIZE*0.5)\n",
    "MAX_GENERATIONS = 200\n",
    "\n",
    "# Reproducible random\n",
    "rng = np.random.Generator(np.random.PCG64([POPULATION_SIZE, OFFSPRING_SIZE, MAX_GENERATIONS]))"
   ]
  },
  {
   "cell_type": "code",
   "execution_count": 3,
   "metadata": {},
   "outputs": [],
   "source": [
    "# Save for each couple save -> ( distance, index of compared city )\n",
    "DIST_MATRIX = np.zeros((len(CITIES), len(CITIES)), dtype=tuple)\n",
    "for c1, c2 in combinations(CITIES.itertuples(), 2):\n",
    "    DIST_MATRIX[c1.Index, c2.Index] = (geopy.distance.geodesic(\n",
    "        (c1.lat, c1.lon), (c2.lat, c2.lon)\n",
    "    ).km, c2.Index)\n",
    "    DIST_MATRIX[c2.Index, c1.Index] = (geopy.distance.geodesic(\n",
    "        (c1.lat, c1.lon), (c2.lat, c2.lon)\n",
    "    ).km, c1.Index)"
   ]
  },
  {
   "cell_type": "markdown",
   "metadata": {},
   "source": [
    "## Helper Functions"
   ]
  },
  {
   "cell_type": "code",
   "execution_count": 4,
   "metadata": {},
   "outputs": [],
   "source": [
    "def cost(path):\n",
    "    circular_path = path + [path[0]]\n",
    "    tot_dist = 0\n",
    "    for i in range(len(circular_path)-1):\n",
    "        tot_dist += DIST_MATRIX[circular_path[i],circular_path[i+1]][0]\n",
    "    return tot_dist\n"
   ]
  },
  {
   "cell_type": "code",
   "execution_count": 5,
   "metadata": {},
   "outputs": [],
   "source": [
    "def print_path(path):\n",
    "    circular_path = path + [path[0]]\n",
    "    print(\"Path:\")\n",
    "    for i in range(len(circular_path)-1):\n",
    "        print(f\"{CITIES.at[circular_path[i],'name']} -> {CITIES.at[circular_path[i+1],'name']} ({DIST_MATRIX[circular_path[i],circular_path[i+1]][0]:.2f}km)\")\n",
    "\n",
    "    print(f\"\\nNumber of steps: {len(circular_path)-1} , Total lenght: {cost(path):.2f} km\")\n"
   ]
  },
  {
   "cell_type": "code",
   "execution_count": 6,
   "metadata": {},
   "outputs": [],
   "source": [
    "def visualize_path(path):\n",
    "    circular_path = path + [path[0]]\n",
    "    x_coordinates = [CITIES.at[i,'lon'] for i in circular_path]\n",
    "    y_coordinates = [CITIES.at[i,'lat'] for i in circular_path]\n",
    "\n",
    "    plt.figure()\n",
    "    plt.title(\"Path EA Resolution\")\n",
    "    plt.xlabel('Longitude')\n",
    "    plt.ylabel('Latitude')\n",
    "    plt.axis('equal')\n",
    "    plt.plot(x_coordinates,y_coordinates,marker='o', linestyle='-', color='b')\n",
    "    plt.show()"
   ]
  },
  {
   "cell_type": "code",
   "execution_count": 7,
   "metadata": {},
   "outputs": [],
   "source": [
    "@dataclass\n",
    "class Individual:\n",
    "    genome: list\n",
    "    fitness: float = None"
   ]
  },
  {
   "cell_type": "code",
   "execution_count": 8,
   "metadata": {},
   "outputs": [],
   "source": [
    "def parent_selection(population):\n",
    "    candidates = sorted(rng.choice(population,4), key=lambda e: e.fitness)\n",
    "    \n",
    "    return candidates[0], candidates[1]"
   ]
  },
  {
   "cell_type": "code",
   "execution_count": 9,
   "metadata": {},
   "outputs": [],
   "source": [
    "def max_distance(path):\n",
    "    circular_path = path + [path[0]]\n",
    "    distances = np.zeros(len(CITIES))\n",
    "    for i in range(0,len(circular_path)-1):\n",
    "        distances[i] = DIST_MATRIX[circular_path[i],circular_path[i+1]][0]\n",
    "\n",
    "    return np.argmax(distances)\n"
   ]
  },
  {
   "cell_type": "code",
   "execution_count": 10,
   "metadata": {},
   "outputs": [],
   "source": [
    "def inverover(p1: Individual, p2: Individual):\n",
    "    \n",
    "    longest_dist_p2 = max_distance(p2.genome)\n",
    "\n",
    "    index_p1 = p1.genome.index(p2.genome[longest_dist_p2])\n",
    "\n",
    "    child_genome = p1.genome.copy()\n",
    "    child_genome[index_p1:] = p1.genome[index_p1:][::-1]\n",
    "\n",
    "    return Individual(child_genome)\n",
    "\n",
    "    "
   ]
  },
  {
   "cell_type": "code",
   "execution_count": 11,
   "metadata": {},
   "outputs": [],
   "source": [
    "def mutation(p:Individual):\n",
    "    child_genome = p.genome.copy()\n",
    "    x = 0\n",
    "    while x < 0.7:\n",
    "        longest_dist = max_distance(child_genome)\n",
    "        \n",
    "        exchange_i = rng.integers(0,len(CITIES)+longest_dist)\n",
    "        exchange_i = exchange_i % len(CITIES)\n",
    "      \n",
    "        temp = child_genome[longest_dist]\n",
    "        child_genome[longest_dist] = child_genome[exchange_i]\n",
    "        child_genome[exchange_i] = temp\n",
    "        x = rng.random()\n",
    "    return Individual(child_genome)\n",
    "\n",
    "    "
   ]
  },
  {
   "cell_type": "code",
   "execution_count": 12,
   "metadata": {},
   "outputs": [],
   "source": [
    "def compute_fast_min(start):\n",
    "    # Search min algorithm\n",
    "    visited = np.full(len(CITIES), False)\n",
    "    curr_city_i = start\n",
    "    visited[curr_city_i] = True\n",
    "    path = list()\n",
    "    path.append(curr_city_i)\n",
    "\n",
    "    while not np.all(visited):\n",
    "\n",
    "        # Find the city with minimum distance and take the correspondig index to make it the next city\n",
    "        next_city_tup= np.min(DIST_MATRIX[curr_city_i,np.logical_not(visited)])\n",
    "        curr_city_i = next_city_tup[1]\n",
    "\n",
    "        path.append(curr_city_i)\n",
    "        visited[curr_city_i] = True\n",
    "    \n",
    "    return path\n"
   ]
  },
  {
   "cell_type": "markdown",
   "metadata": {},
   "source": [
    "# EA Resolution"
   ]
  },
  {
   "cell_type": "code",
   "execution_count": 13,
   "metadata": {},
   "outputs": [
    {
     "name": "stderr",
     "output_type": "stream",
     "text": [
      "100%|██████████| 200/200 [01:01<00:00,  3.28it/s]\n"
     ]
    }
   ],
   "source": [
    "cities_idx = [i for i in range(len(CITIES))]\n",
    "\n",
    "population = [Individual(compute_fast_min(i)) for i in range(len(CITIES))]\n",
    "\n",
    "for i in population:\n",
    "    i.fitness = cost(i.genome)\n",
    "\n",
    "for _ in tqdm(range(MAX_GENERATIONS)):\n",
    "    offspring = list()\n",
    "\n",
    "    for _ in range(OFFSPRING_SIZE):\n",
    "        \n",
    "        p1,p2 = parent_selection(population)\n",
    "        \n",
    "        if rng.random() <0.5:\n",
    "            o = inverover(p1,p2)\n",
    "        else:\n",
    "            o = mutation(p1)\n",
    "\n",
    "        offspring.append(o)\n",
    "\n",
    "    for i in offspring:\n",
    "        i.fitness = cost(i.genome)\n",
    "\n",
    "    population.extend(offspring)\n",
    "    population.sort(key=lambda i: i.fitness)\n",
    "    population = population[:POPULATION_SIZE]\n"
   ]
  },
  {
   "cell_type": "code",
   "execution_count": 14,
   "metadata": {},
   "outputs": [
    {
     "name": "stdout",
     "output_type": "stream",
     "text": [
      "Path:\n",
      "Abakan -> Novokuznetsk (285.72km)\n",
      "Novokuznetsk -> Prokopyevsk (30.63km)\n",
      "Prokopyevsk -> Leninsk‐Kuznetskiy (91.87km)\n",
      "Leninsk‐Kuznetskiy -> Kemerovo (74.76km)\n",
      "Kemerovo -> Tomsk (147.60km)\n",
      "Tomsk -> Seversk (14.97km)\n",
      "Seversk -> Novosibirsk (211.49km)\n",
      "Novosibirsk -> Barnaul (194.50km)\n",
      "Barnaul -> Biysk (132.82km)\n",
      "Biysk -> Rubtsovsk (294.26km)\n",
      "Rubtsovsk -> Omsk (647.47km)\n",
      "Omsk -> Tobolsk (475.40km)\n",
      "Tobolsk -> Tyumen (200.98km)\n",
      "Tyumen -> Kurgan (189.69km)\n",
      "Kurgan -> Kopeysk (236.87km)\n",
      "Kopeysk -> Chelyabinsk (14.72km)\n",
      "Chelyabinsk -> Miass (87.20km)\n",
      "Miass -> Zlatoust (33.88km)\n",
      "Zlatoust -> Pervouralsk (194.64km)\n",
      "Pervouralsk -> Yekaterinburg (40.19km)\n",
      "Yekaterinburg -> Kamensk‐Uralskiy (95.20km)\n",
      "Kamensk‐Uralskiy -> Nizhniy Tagil (205.75km)\n",
      "Nizhniy Tagil -> Perm (220.37km)\n",
      "Perm -> Berezniki (159.92km)\n",
      "Berezniki -> Izhevsk (353.17km)\n",
      "Izhevsk -> Neftekamsk (107.05km)\n",
      "Neftekamsk -> Naberezhnye Chelny (129.52km)\n",
      "Naberezhnye Chelny -> Nizhnekamsk (31.95km)\n",
      "Nizhnekamsk -> Almetyevsk (88.07km)\n",
      "Almetyevsk -> Oktyabrskiy (88.27km)\n",
      "Oktyabrskiy -> Ufa (170.17km)\n",
      "Ufa -> Sterlitamak (128.14km)\n",
      "Sterlitamak -> Salavat (29.01km)\n",
      "Salavat -> Orenberg (185.10km)\n",
      "Orenberg -> Orenburg (0.37km)\n",
      "Orenburg -> Novotroitsk (232.42km)\n",
      "Novotroitsk -> Orsk (21.66km)\n",
      "Orsk -> Magnitogorsk (247.00km)\n",
      "Magnitogorsk -> Samara (588.03km)\n",
      "Samara -> Novokuybyshevsk (17.80km)\n",
      "Novokuybyshevsk -> Tolyatti (49.80km)\n",
      "Tolyatti -> Syzran (77.41km)\n",
      "Syzran -> Ulyanovsk (129.19km)\n",
      "Ulyanovsk -> Dimitrovgrad (75.41km)\n",
      "Dimitrovgrad -> Kazan (169.13km)\n",
      "Kazan -> Novocheboksarsk (109.88km)\n",
      "Novocheboksarsk -> Cheboksary (15.59km)\n",
      "Cheboksary -> Yoshkar‐Ola (68.49km)\n",
      "Yoshkar‐Ola -> Nizhny Novgorod (240.88km)\n",
      "Nizhny Novgorod -> Dzerzhinsk (34.91km)\n",
      "Dzerzhinsk -> Arzamas (98.38km)\n",
      "Arzamas -> Murom (114.53km)\n",
      "Murom -> Kovrov (98.78km)\n",
      "Kovrov -> Vladimir (62.07km)\n",
      "Vladimir -> Orekhovo‐Zuevo (95.53km)\n",
      "Orekhovo‐Zuevo -> Noginsk (34.00km)\n",
      "Noginsk -> Elektrostal (6.68km)\n",
      "Elektrostal -> Zheleznodorozhnyy (26.94km)\n",
      "Zheleznodorozhnyy -> Balashikha (6.96km)\n",
      "Balashikha -> Shchyolkovo (11.97km)\n",
      "Shchyolkovo -> Korolyov (12.70km)\n",
      "Korolyov -> Mytishchi (5.74km)\n",
      "Mytishchi -> Khimki (18.28km)\n",
      "Khimki -> Zelenograd (10.91km)\n",
      "Zelenograd -> Moscow (29.58km)\n",
      "Moscow -> Lyubertsy (19.17km)\n",
      "Lyubertsy -> Zhukovskiy (26.33km)\n",
      "Zhukovskiy -> Podolsk (47.16km)\n",
      "Podolsk -> Odintsovo (32.00km)\n",
      "Odintsovo -> Obninsk (76.71km)\n",
      "Obninsk -> Serpukhov (54.96km)\n",
      "Serpukhov -> Tula (81.18km)\n",
      "Tula -> Novomoskovsk (41.70km)\n",
      "Novomoskovsk -> Ryazan (115.09km)\n",
      "Ryazan -> Kolomna (80.15km)\n",
      "Kolomna -> Sergiyev Posad (143.98km)\n",
      "Sergiyev Posad -> Tver (150.18km)\n",
      "Tver -> Rybinsk (220.67km)\n",
      "Rybinsk -> Yaroslavl (78.17km)\n",
      "Yaroslavl -> Kostroma (65.38km)\n",
      "Kostroma -> Ivanovo (84.72km)\n",
      "Ivanovo -> Vologda (254.39km)\n",
      "Vologda -> Cherepovets (114.80km)\n",
      "Cherepovets -> Kolpino (419.70km)\n",
      "Kolpino -> Saint Petersburg (25.47km)\n",
      "Saint Petersburg -> Velikiy Novgorod (166.36km)\n",
      "Velikiy Novgorod -> Kaliningrad (784.79km)\n",
      "Kaliningrad -> Pskov (596.10km)\n",
      "Pskov -> Velikie Luki (212.88km)\n",
      "Velikie Luki -> Smolensk (198.09km)\n",
      "Smolensk -> Bryansk (230.10km)\n",
      "Bryansk -> Oryol (115.74km)\n",
      "Oryol -> Kursk (138.18km)\n",
      "Kursk -> Staryy Oskol (124.13km)\n",
      "Staryy Oskol -> Voronezh (109.10km)\n",
      "Voronezh -> Lipetsk (103.13km)\n",
      "Lipetsk -> Yelets (75.22km)\n",
      "Yelets -> Tambov (198.07km)\n",
      "Tambov -> Penza (245.48km)\n",
      "Penza -> Saransk (109.72km)\n",
      "Saransk -> Balakovo (295.88km)\n",
      "Balakovo -> Engels (128.88km)\n",
      "Engels -> Saratov (9.98km)\n",
      "Saratov -> Kamyshin (169.44km)\n",
      "Kamyshin -> Volzhskiy (152.69km)\n",
      "Volzhskiy -> Volgograd (23.11km)\n",
      "Volgograd -> Volgodonsk (218.86km)\n",
      "Volgodonsk -> Shakhty (147.54km)\n",
      "Shakhty -> Novoshakhtinsk (20.74km)\n",
      "Novoshakhtinsk -> Novocherkassk (38.39km)\n",
      "Novocherkassk -> Rostov‐na‐Donu (35.01km)\n",
      "Rostov‐na‐Donu -> Bataysk (11.52km)\n",
      "Bataysk -> Taganrog (64.29km)\n",
      "Taganrog -> Krasnodar (243.49km)\n",
      "Krasnodar -> Maykop (100.83km)\n",
      "Maykop -> Armavir (90.38km)\n",
      "Armavir -> Stavropol (67.23km)\n",
      "Stavropol -> Nevinnomyssk (45.59km)\n",
      "Nevinnomyssk -> Cherkessk (38.78km)\n",
      "Cherkessk -> Kislovodsk (67.64km)\n",
      "Kislovodsk -> Pyatigorsk (31.40km)\n",
      "Pyatigorsk -> Nalchik (75.94km)\n",
      "Nalchik -> Vladikavkaz (100.08km)\n",
      "Vladikavkaz -> Nazran (21.26km)\n",
      "Nazran -> Groznyy (73.92km)\n",
      "Groznyy -> Khasavyurt (72.55km)\n",
      "Khasavyurt -> Makhachkala (79.91km)\n",
      "Makhachkala -> Kaspiysk (15.94km)\n",
      "Kaspiysk -> Derbent (105.61km)\n",
      "Derbent -> Astrakhan (477.07km)\n",
      "Astrakhan -> Elista (295.65km)\n",
      "Elista -> Sochi (464.97km)\n",
      "Sochi -> Novorossiysk (200.16km)\n",
      "Novorossiysk -> Belgorod (660.82km)\n",
      "Belgorod -> Kaluga (437.86km)\n",
      "Kaluga -> Kirov (936.75km)\n",
      "Kirov -> Syktyvkar (347.95km)\n",
      "Syktyvkar -> Arkhangelsk (610.18km)\n",
      "Arkhangelsk -> Severodvinsk (33.55km)\n",
      "Severodvinsk -> Murmansk (572.02km)\n",
      "Murmansk -> Petrozavodsk (798.17km)\n",
      "Petrozavodsk -> Nefteyugansk (2018.52km)\n",
      "Nefteyugansk -> Surgut (43.14km)\n",
      "Surgut -> Nizhnevartovsk (173.64km)\n",
      "Nizhnevartovsk -> Noyabrsk (254.53km)\n",
      "Noyabrsk -> Novyy Urengoy (328.30km)\n",
      "Novyy Urengoy -> Norilsk (612.52km)\n",
      "Norilsk -> Yakutsk (2024.32km)\n",
      "Yakutsk -> Magadan (1173.79km)\n",
      "Magadan -> Petropavlovsk‐Kamchatskiy (875.16km)\n",
      "Petropavlovsk‐Kamchatskiy -> Yuzhno‐Sakhalinsk (1321.54km)\n",
      "Yuzhno‐Sakhalinsk -> Komsomolsk‐na‐Amure (582.17km)\n",
      "Komsomolsk‐na‐Amure -> Khabarovsk (274.21km)\n",
      "Khabarovsk -> Ussuriysk (566.90km)\n",
      "Ussuriysk -> Artyom (50.78km)\n",
      "Artyom -> Vladivostok (34.21km)\n",
      "Vladivostok -> Nakhodka (87.36km)\n",
      "Nakhodka -> Blagoveshchensk (922.98km)\n",
      "Blagoveshchensk -> Chita (1002.31km)\n",
      "Chita -> Ulan‐Ude (402.25km)\n",
      "Ulan‐Ude -> Irkutsk (238.28km)\n",
      "Irkutsk -> Angarsk (34.88km)\n",
      "Angarsk -> Bratsk (439.00km)\n",
      "Bratsk -> Krasnoyarsk (538.01km)\n",
      "Krasnoyarsk -> Achinsk (161.71km)\n",
      "Achinsk -> Kyzyl (568.55km)\n",
      "Kyzyl -> Abakan (299.57km)\n",
      "\n",
      "Number of steps: 167 , Total lenght: 37252.01 km\n"
     ]
    },
    {
     "data": {
      "image/png": "[encoded data removed]",
      "text/plain": [
       "<Figure size 640x480 with 1 Axes>"
      ]
     },
     "metadata": {},
     "output_type": "display_data"
    }
   ],
   "source": [
    "print_path(population[0].genome)\n",
    "visualize_path(population[0].genome)"
   ]
  }
 ],
 "metadata": {
  "kernelspec": {
   "display_name": "CI2024_lab1",
   "language": "python",
   "name": "python3"
  },
  "language_info": {
   "codemirror_mode": {
    "name": "ipython",
    "version": 3
   },
   "file_extension": ".py",
   "mimetype": "text/x-python",
   "name": "python",
   "nbconvert_exporter": "python",
   "pygments_lexer": "ipython3",
   "version": "3.9.13"
  }
 },
 "nbformat": 4,
 "nbformat_minor": 2
}
