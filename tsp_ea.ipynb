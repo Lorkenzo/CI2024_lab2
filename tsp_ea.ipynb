{
 "cells": [
  {
   "cell_type": "markdown",
   "metadata": {},
   "source": [
    "# Lab2 - TSP EA solution"
   ]
  },
  {
   "cell_type": "code",
   "execution_count": 57,
   "metadata": {},
   "outputs": [],
   "source": [
    "from itertools import combinations\n",
    "import pandas as pd\n",
    "import numpy as np\n",
    "import geopy.distance\n",
    "import matplotlib.pyplot as plt\n",
    "import random\n",
    "from dataclasses import dataclass\n",
    "from tqdm.auto import tqdm"
   ]
  },
  {
   "cell_type": "code",
   "execution_count": 58,
   "metadata": {},
   "outputs": [],
   "source": [
    "CITIES = pd.read_csv('cities/italy.csv', header=None, names=['name', 'lat', 'lon'])\n",
    "\n",
    "POPULATION_SIZE = len(CITIES)*5\n",
    "OFFSPRING_SIZE = int(POPULATION_SIZE*0.5)\n",
    "MAX_GENERATIONS = 200\n",
    "\n",
    "# Reproducible random\n",
    "rng = np.random.Generator(np.random.PCG64([POPULATION_SIZE, OFFSPRING_SIZE, MAX_GENERATIONS]))"
   ]
  },
  {
   "cell_type": "code",
   "execution_count": 59,
   "metadata": {},
   "outputs": [],
   "source": [
    "# Save for each couple save -> ( distance, index of compared city )\n",
    "DIST_MATRIX = np.zeros((len(CITIES), len(CITIES)), dtype=tuple)\n",
    "for c1, c2 in combinations(CITIES.itertuples(), 2):\n",
    "    DIST_MATRIX[c1.Index, c2.Index] = (geopy.distance.geodesic(\n",
    "        (c1.lat, c1.lon), (c2.lat, c2.lon)\n",
    "    ).km, c2.Index)\n",
    "    DIST_MATRIX[c2.Index, c1.Index] = (geopy.distance.geodesic(\n",
    "        (c1.lat, c1.lon), (c2.lat, c2.lon)\n",
    "    ).km, c1.Index)"
   ]
  },
  {
   "cell_type": "markdown",
   "metadata": {},
   "source": [
    "## Helper Functions"
   ]
  },
  {
   "cell_type": "code",
   "execution_count": 60,
   "metadata": {},
   "outputs": [],
   "source": [
    "def cost(path):\n",
    "    circular_path = path + [path[0]]\n",
    "    tot_dist = 0\n",
    "    for i in range(len(circular_path)-1):\n",
    "        tot_dist += DIST_MATRIX[circular_path[i],circular_path[i+1]][0]\n",
    "    return tot_dist\n"
   ]
  },
  {
   "cell_type": "code",
   "execution_count": 61,
   "metadata": {},
   "outputs": [],
   "source": [
    "def print_path(path):\n",
    "    circular_path = path + [path[0]]\n",
    "    print(\"Path:\")\n",
    "    for i in range(len(circular_path)-1):\n",
    "        print(f\"{CITIES.at[circular_path[i],'name']} -> {CITIES.at[circular_path[i+1],'name']} ({DIST_MATRIX[circular_path[i],circular_path[i+1]][0]:.2f}km)\")\n",
    "\n",
    "    print(f\"\\nNumber of steps: {len(circular_path)-1} , Total lenght: {cost(path):.2f} km\")\n"
   ]
  },
  {
   "cell_type": "code",
   "execution_count": 62,
   "metadata": {},
   "outputs": [],
   "source": [
    "def visualize_path(path):\n",
    "    circular_path = path + [path[0]]\n",
    "    x_coordinates = [CITIES.at[i,'lon'] for i in circular_path]\n",
    "    y_coordinates = [CITIES.at[i,'lat'] for i in circular_path]\n",
    "\n",
    "    plt.figure()\n",
    "    plt.title(\"Path EA Resolution\")\n",
    "    plt.xlabel('Longitude')\n",
    "    plt.ylabel('Latitude')\n",
    "    plt.axis('equal')\n",
    "    plt.plot(x_coordinates,y_coordinates,marker='o', linestyle='-', color='b')\n",
    "    plt.show()"
   ]
  },
  {
   "cell_type": "code",
   "execution_count": 63,
   "metadata": {},
   "outputs": [],
   "source": [
    "@dataclass\n",
    "class Individual:\n",
    "    genome: list\n",
    "    fitness: float = None"
   ]
  },
  {
   "cell_type": "code",
   "execution_count": 64,
   "metadata": {},
   "outputs": [],
   "source": [
    "def parent_selection(population):\n",
    "    candidates = sorted(rng.choice(population,4), key=lambda e: e.fitness)\n",
    "    \n",
    "    return candidates[0], candidates[3]"
   ]
  },
  {
   "cell_type": "code",
   "execution_count": 65,
   "metadata": {},
   "outputs": [],
   "source": [
    "def max_distance(path):\n",
    "    circular_path = path + [path[0]]\n",
    "    distances = np.zeros(len(CITIES),dtype=tuple)\n",
    "    for i in range(0,len(circular_path)-1):\n",
    "        distances[i] = (DIST_MATRIX[circular_path[i],circular_path[i+1]][0],DIST_MATRIX[circular_path[i],circular_path[i+1]][1])\n",
    "\n",
    "    sorted_dist = sorted(distances, key= lambda x: x[0])[:len(CITIES)//5]\n",
    "\n",
    "    return sorted_dist[rng.integers(0,len(CITIES)//5)][1]\n"
   ]
  },
  {
   "cell_type": "code",
   "execution_count": 66,
   "metadata": {},
   "outputs": [],
   "source": [
    "def inverover(p1: Individual, p2: Individual):\n",
    "    x=0\n",
    "    while x < 0.5:\n",
    "        longest_dist_p2 = max_distance(p2.genome)\n",
    "\n",
    "        index_p1 = p1.genome.index(p2.genome[longest_dist_p2])\n",
    "        seq_len = rng.integers(0,len(CITIES)+index_p1)\n",
    "        seq_len = seq_len % len(CITIES)\n",
    "\n",
    "        child_genome = p1.genome.copy()\n",
    "        child_genome[index_p1:index_p1+seq_len] = p1.genome[index_p1:index_p1+seq_len][::-1]\n",
    "        \n",
    "        if cost(child_genome)<cost(p1.genome):\n",
    "            break\n",
    "        x=rng.random()\n",
    "\n",
    "    return Individual(child_genome)\n",
    "\n",
    "    "
   ]
  },
  {
   "cell_type": "code",
   "execution_count": 67,
   "metadata": {},
   "outputs": [],
   "source": [
    "def mutation(p:Individual):\n",
    "    child_genome = p.genome.copy()\n",
    "    x = 0\n",
    "    while x < 0.6:\n",
    "        if rng.random()<0.2:\n",
    "            # Try changing the place of max distance\n",
    "            longest_dist = max_distance(child_genome)\n",
    "            \n",
    "            exchange_i = rng.integers(0,len(CITIES))\n",
    "        \n",
    "            temp = child_genome[longest_dist]\n",
    "            child_genome[longest_dist] = child_genome[exchange_i]\n",
    "            child_genome[exchange_i] = temp\n",
    "        else:\n",
    "            # Try swapping random sequences\n",
    "            seq_len = rng.integers(1,len(CITIES)//4) \n",
    "            start_i = rng.integers(0,len(CITIES)-seq_len)\n",
    "\n",
    "            seq = child_genome[start_i:start_i+seq_len]\n",
    "            genome_no_seq = child_genome[:start_i] + child_genome[start_i+seq_len:]\n",
    "\n",
    "            new_i = rng.integers(0,len(genome_no_seq))\n",
    "            new_genome = genome_no_seq[:new_i] + seq + genome_no_seq[new_i:]\n",
    "\n",
    "            child_genome = new_genome\n",
    "\n",
    "        # if the cost is less return the child \n",
    "        if cost(child_genome)<cost(p.genome):\n",
    "                break\n",
    "\n",
    "        x = rng.random()\n",
    "    return Individual(child_genome)\n",
    "\n",
    "    "
   ]
  },
  {
   "cell_type": "code",
   "execution_count": 68,
   "metadata": {},
   "outputs": [],
   "source": [
    "def compute_fast_min(start):\n",
    "    # Search min algorithm\n",
    "    visited = np.full(len(CITIES), False)\n",
    "    curr_city_i = start\n",
    "    visited[curr_city_i] = True\n",
    "    path = list()\n",
    "    path.append(curr_city_i)\n",
    "\n",
    "    while not np.all(visited):\n",
    "\n",
    "        # Find the city with minimum distance and take the correspondig index to make it the next city\n",
    "        next_city_tup= np.min(DIST_MATRIX[curr_city_i,np.logical_not(visited)])\n",
    "        curr_city_i = next_city_tup[1]\n",
    "\n",
    "        path.append(curr_city_i)\n",
    "        visited[curr_city_i] = True\n",
    "    \n",
    "    return path\n"
   ]
  },
  {
   "cell_type": "markdown",
   "metadata": {},
   "source": [
    "# EA Resolution"
   ]
  },
  {
   "cell_type": "code",
   "execution_count": 69,
   "metadata": {},
   "outputs": [
    {
     "name": "stderr",
     "output_type": "stream",
     "text": [
      "100%|██████████| 200/200 [00:06<00:00, 29.92it/s]\n"
     ]
    }
   ],
   "source": [
    "cities_idx = [i for i in range(len(CITIES))]\n",
    "\n",
    "population = [Individual(compute_fast_min(i)) for i in range(len(CITIES))]\n",
    "\n",
    "for i in population:\n",
    "    i.fitness = cost(i.genome)\n",
    "\n",
    "for _ in tqdm(range(MAX_GENERATIONS)):\n",
    "    offspring = list()\n",
    "\n",
    "    for _ in range(OFFSPRING_SIZE):\n",
    "        \n",
    "        p1,p2 = parent_selection(population)\n",
    "        \n",
    "        if rng.random() <0.6:\n",
    "            o = inverover(p1,p2)\n",
    "        else:\n",
    "            o = mutation(p1)\n",
    "\n",
    "        offspring.append(o)\n",
    "\n",
    "    for i in offspring:\n",
    "        i.fitness = cost(i.genome)\n",
    "\n",
    "    population.extend(offspring)\n",
    "    population.sort(key=lambda i: i.fitness)\n",
    "    population = population[:POPULATION_SIZE]\n"
   ]
  },
  {
   "cell_type": "code",
   "execution_count": 70,
   "metadata": {},
   "outputs": [
    {
     "name": "stdout",
     "output_type": "stream",
     "text": [
      "Path:\n",
      "Florence -> Prato (17.17km)\n",
      "Prato -> Leghorn (74.02km)\n",
      "Leghorn -> Sassari (344.66km)\n",
      "Sassari -> Cagliari (173.89km)\n",
      "Cagliari -> Palermo (390.28km)\n",
      "Palermo -> Syracuse (206.47km)\n",
      "Syracuse -> Catania (51.23km)\n",
      "Catania -> Reggio di Calabria (84.28km)\n",
      "Reggio di Calabria -> Messina (12.48km)\n",
      "Messina -> Taranto (293.02km)\n",
      "Taranto -> Bari (77.63km)\n",
      "Bari -> Andria (50.18km)\n",
      "Andria -> Foggia (67.42km)\n",
      "Foggia -> Salerno (109.52km)\n",
      "Salerno -> Naples (46.25km)\n",
      "Naples -> Giugliano in Campania (11.15km)\n",
      "Giugliano in Campania -> Latina (124.45km)\n",
      "Latina -> Rome (56.84km)\n",
      "Rome -> Terni (76.54km)\n",
      "Terni -> Perugia (63.64km)\n",
      "Perugia -> Pescara (165.50km)\n",
      "Pescara -> Ancona (139.24km)\n",
      "Ancona -> Rimini (90.60km)\n",
      "Rimini -> Forlì (46.72km)\n",
      "Forlì -> Ravenna (26.46km)\n",
      "Ravenna -> Ferrara (66.67km)\n",
      "Ferrara -> Padua (66.57km)\n",
      "Padua -> Venice (36.07km)\n",
      "Venice -> Trieste (115.09km)\n",
      "Trieste -> Bolzano (209.68km)\n",
      "Bolzano -> Trento (49.94km)\n",
      "Trento -> Vicenza (67.35km)\n",
      "Vicenza -> Verona (44.70km)\n",
      "Verona -> Brescia (61.42km)\n",
      "Brescia -> Bergamo (46.02km)\n",
      "Bergamo -> Monza (33.92km)\n",
      "Monza -> Milan (14.51km)\n",
      "Milan -> Novara (43.07km)\n",
      "Novara -> Turin (84.46km)\n",
      "Turin -> Genoa (123.19km)\n",
      "Genoa -> Piacenza (92.66km)\n",
      "Piacenza -> Parma (57.65km)\n",
      "Parma -> Reggio nell'Emilia (26.94km)\n",
      "Reggio nell'Emilia -> Modena (23.94km)\n",
      "Modena -> Bologna (37.29km)\n",
      "Bologna -> Florence (80.40km)\n",
      "\n",
      "Number of steps: 46 , Total lenght: 4181.18 km\n"
     ]
    },
    {
     "data": {
      "image/png": "[encoded data removed]",
      "text/plain": [
       "<Figure size 640x480 with 1 Axes>"
      ]
     },
     "metadata": {},
     "output_type": "display_data"
    }
   ],
   "source": [
    "print_path(population[0].genome)\n",
    "visualize_path(population[0].genome)"
   ]
  }
 ],
 "metadata": {
  "kernelspec": {
   "display_name": "CI2024_lab1",
   "language": "python",
   "name": "python3"
  },
  "language_info": {
   "codemirror_mode": {
    "name": "ipython",
    "version": 3
   },
   "file_extension": ".py",
   "mimetype": "text/x-python",
   "name": "python",
   "nbconvert_exporter": "python",
   "pygments_lexer": "ipython3",
   "version": "3.9.13"
  }
 },
 "nbformat": 4,
 "nbformat_minor": 2
}
