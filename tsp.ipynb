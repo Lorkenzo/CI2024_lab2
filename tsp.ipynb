{
 "cells": [
  {
   "cell_type": "markdown",
   "metadata": {},
   "source": [
    "## Lab2 - TSP Fast solution\n",
    "\n",
    "https://www.wolframcloud.com/obj/giovanni.squillero/Published/Lab2-tsp.nb"
   ]
  },
  {
   "cell_type": "code",
   "execution_count": 1,
   "metadata": {},
   "outputs": [],
   "source": [
    "from itertools import combinations\n",
    "import pandas as pd\n",
    "import numpy as np\n",
    "import geopy.distance\n",
    "import matplotlib.pyplot as plt\n",
    "import random"
   ]
  },
  {
   "cell_type": "code",
   "execution_count": 2,
   "metadata": {},
   "outputs": [],
   "source": [
    "CITIES = pd.read_csv('cities/italy.csv', header=None, names=['name', 'lat', 'lon'])"
   ]
  },
  {
   "cell_type": "code",
   "execution_count": 3,
   "metadata": {},
   "outputs": [],
   "source": [
    "# Save for each couple save -> ( distance, index of compared city )\n",
    "DIST_MATRIX = np.zeros((len(CITIES), len(CITIES)), dtype=tuple)\n",
    "for c1, c2 in combinations(CITIES.itertuples(), 2):\n",
    "    DIST_MATRIX[c1.Index, c2.Index] = (geopy.distance.geodesic(\n",
    "        (c1.lat, c1.lon), (c2.lat, c2.lon)\n",
    "    ).km, c2.Index)\n",
    "    DIST_MATRIX[c2.Index, c1.Index] = (geopy.distance.geodesic(\n",
    "        (c1.lat, c1.lon), (c2.lat, c2.lon)\n",
    "    ).km, c1.Index)"
   ]
  },
  {
   "cell_type": "markdown",
   "metadata": {},
   "source": [
    "## Helper Functions"
   ]
  },
  {
   "cell_type": "code",
   "execution_count": 4,
   "metadata": {},
   "outputs": [],
   "source": [
    "def cost(path):\n",
    "    circular_path = path + [path[0]]\n",
    "    tot_dist = 0\n",
    "    for i in range(len(circular_path)-1):\n",
    "        tot_dist += DIST_MATRIX[circular_path[i],circular_path[i+1]][0]\n",
    "    return tot_dist\n"
   ]
  },
  {
   "cell_type": "code",
   "execution_count": 5,
   "metadata": {},
   "outputs": [],
   "source": [
    "def print_path(path):\n",
    "    circular_path = path + [path[0]]\n",
    "    print(\"Path:\")\n",
    "    for i in range(len(circular_path)-1):\n",
    "        print(f\"{CITIES.at[circular_path[i],'name']} -> {CITIES.at[circular_path[i+1],'name']} ({DIST_MATRIX[circular_path[i],circular_path[i+1]][0]:.2f}km)\")\n",
    "\n",
    "    print(f\"\\nNumber of steps: {len(circular_path)-1} , Total lenght: {cost(path):.2f} km\")\n"
   ]
  },
  {
   "cell_type": "code",
   "execution_count": 6,
   "metadata": {},
   "outputs": [],
   "source": [
    "def visualize_path(path):\n",
    "    circular_path = path + [path[0]]\n",
    "    x_coordinates = [CITIES.at[i,'lon'] for i in circular_path]\n",
    "    y_coordinates = [CITIES.at[i,'lat'] for i in circular_path]\n",
    "\n",
    "    plt.figure()\n",
    "    plt.title(\"Path Quick Resolution\")\n",
    "    plt.xlabel('Longitude')\n",
    "    plt.ylabel('Latitude')\n",
    "    plt.axis('equal')\n",
    "    plt.plot(x_coordinates,y_coordinates,marker='o', linestyle='-', color='b')\n",
    "    plt.show()"
   ]
  },
  {
   "cell_type": "markdown",
   "metadata": {},
   "source": [
    "# Fast Resolution\n",
    "\n",
    "Computing the closest city starting from the first"
   ]
  },
  {
   "cell_type": "code",
   "execution_count": 7,
   "metadata": {},
   "outputs": [],
   "source": [
    "def compute_fast_min(start):\n",
    "    # Search min algorithm\n",
    "    visited = np.full(len(CITIES), False)\n",
    "    curr_city_i = start\n",
    "    visited[curr_city_i] = True\n",
    "    path = list()\n",
    "    path.append(curr_city_i)\n",
    "\n",
    "    while not np.all(visited):\n",
    "\n",
    "        # Find the city with minimum distance and take the correspondig index to make it the next city\n",
    "        next_city_tup= np.min(DIST_MATRIX[curr_city_i,np.logical_not(visited)])\n",
    "        curr_city_i = next_city_tup[1]\n",
    "\n",
    "        path.append(curr_city_i)\n",
    "        visited[curr_city_i] = True\n",
    "    \n",
    "    return path\n"
   ]
  },
  {
   "cell_type": "code",
   "execution_count": 8,
   "metadata": {},
   "outputs": [
    {
     "name": "stdout",
     "output_type": "stream",
     "text": [
      "Path:\n",
      "Rimini -> Forlì (46.72km)\n",
      "Forlì -> Ravenna (26.46km)\n",
      "Ravenna -> Ferrara (66.67km)\n",
      "Ferrara -> Bologna (43.43km)\n",
      "Bologna -> Modena (37.29km)\n",
      "Modena -> Reggio nell'Emilia (23.94km)\n",
      "Reggio nell'Emilia -> Parma (26.94km)\n",
      "Parma -> Piacenza (57.65km)\n",
      "Piacenza -> Milan (60.65km)\n",
      "Milan -> Monza (14.51km)\n",
      "Monza -> Bergamo (33.92km)\n",
      "Bergamo -> Brescia (46.02km)\n",
      "Brescia -> Verona (61.42km)\n",
      "Verona -> Vicenza (44.70km)\n",
      "Vicenza -> Padua (30.13km)\n",
      "Padua -> Venice (36.07km)\n",
      "Venice -> Trieste (115.09km)\n",
      "Trieste -> Bolzano (209.68km)\n",
      "Bolzano -> Trento (49.94km)\n",
      "Trento -> Novara (206.69km)\n",
      "Novara -> Turin (84.46km)\n",
      "Turin -> Genoa (123.19km)\n",
      "Genoa -> Leghorn (146.37km)\n",
      "Leghorn -> Prato (74.02km)\n",
      "Prato -> Florence (17.17km)\n",
      "Florence -> Perugia (119.19km)\n",
      "Perugia -> Terni (63.64km)\n",
      "Terni -> Rome (76.54km)\n",
      "Rome -> Latina (56.84km)\n",
      "Latina -> Giugliano in Campania (124.45km)\n",
      "Giugliano in Campania -> Naples (11.15km)\n",
      "Naples -> Salerno (46.25km)\n",
      "Salerno -> Foggia (109.52km)\n",
      "Foggia -> Andria (67.42km)\n",
      "Andria -> Bari (50.18km)\n",
      "Bari -> Taranto (77.63km)\n",
      "Taranto -> Messina (293.02km)\n",
      "Messina -> Reggio di Calabria (12.48km)\n",
      "Reggio di Calabria -> Catania (84.28km)\n",
      "Catania -> Syracuse (51.23km)\n",
      "Syracuse -> Palermo (206.47km)\n",
      "Palermo -> Cagliari (390.28km)\n",
      "Cagliari -> Sassari (173.89km)\n",
      "Sassari -> Pescara (508.61km)\n",
      "Pescara -> Ancona (139.24km)\n",
      "Ancona -> Rimini (90.60km)\n",
      "\n",
      "Number of steps: 46 , Total lenght: 4436.03 km\n"
     ]
    },
    {
     "data": {
      "image/png": "[encoded data removed]",
      "text/plain": [
       "<Figure size 640x480 with 1 Axes>"
      ]
     },
     "metadata": {},
     "output_type": "display_data"
    }
   ],
   "source": [
    "solution = compute_fast_min(0)\n",
    "\n",
    "for i in range(1,len(CITIES)):\n",
    "    new_path = compute_fast_min(i)\n",
    "    if cost(new_path) < cost(solution):\n",
    "        solution = new_path\n",
    "\n",
    "print_path(solution)\n",
    "\n",
    "visualize_path(solution)\n"
   ]
  }
 ],
 "metadata": {
  "kernelspec": {
   "display_name": "CI2024_lab1",
   "language": "python",
   "name": "python3"
  },
  "language_info": {
   "codemirror_mode": {
    "name": "ipython",
    "version": 3
   },
   "file_extension": ".py",
   "mimetype": "text/x-python",
   "name": "python",
   "nbconvert_exporter": "python",
   "pygments_lexer": "ipython3",
   "version": "3.9.13"
  }
 },
 "nbformat": 4,
 "nbformat_minor": 2
}
