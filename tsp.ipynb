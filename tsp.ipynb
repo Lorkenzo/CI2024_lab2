{
 "cells": [
  {
   "cell_type": "code",
   "execution_count": 58,
   "metadata": {},
   "outputs": [],
   "source": [
    "from itertools import combinations\n",
    "import pandas as pd\n",
    "import numpy as np\n",
    "import geopy.distance\n",
    "\n",
    "from icecream import ic"
   ]
  },
  {
   "cell_type": "markdown",
   "metadata": {},
   "source": [
    "## Lab2 - TSP\n",
    "\n",
    "https://www.wolframcloud.com/obj/giovanni.squillero/Published/Lab2-tsp.nb"
   ]
  },
  {
   "cell_type": "code",
   "execution_count": 59,
   "metadata": {},
   "outputs": [
    {
     "data": {
      "text/html": [
       "<div>\n",
       "<style scoped>\n",
       "    .dataframe tbody tr th:only-of-type {\n",
       "        vertical-align: middle;\n",
       "    }\n",
       "\n",
       "    .dataframe tbody tr th {\n",
       "        vertical-align: top;\n",
       "    }\n",
       "\n",
       "    .dataframe thead th {\n",
       "        text-align: right;\n",
       "    }\n",
       "</style>\n",
       "<table border=\"1\" class=\"dataframe\">\n",
       "  <thead>\n",
       "    <tr style=\"text-align: right;\">\n",
       "      <th></th>\n",
       "      <th>name</th>\n",
       "      <th>lat</th>\n",
       "      <th>lon</th>\n",
       "    </tr>\n",
       "  </thead>\n",
       "  <tbody>\n",
       "    <tr>\n",
       "      <th>0</th>\n",
       "      <td>Isangel</td>\n",
       "      <td>-19.53</td>\n",
       "      <td>169.28</td>\n",
       "    </tr>\n",
       "    <tr>\n",
       "      <th>1</th>\n",
       "      <td>Lakatoro</td>\n",
       "      <td>-16.09</td>\n",
       "      <td>167.40</td>\n",
       "    </tr>\n",
       "    <tr>\n",
       "      <th>2</th>\n",
       "      <td>Longana</td>\n",
       "      <td>-15.30</td>\n",
       "      <td>168.00</td>\n",
       "    </tr>\n",
       "    <tr>\n",
       "      <th>3</th>\n",
       "      <td>Luganville</td>\n",
       "      <td>-15.51</td>\n",
       "      <td>167.15</td>\n",
       "    </tr>\n",
       "    <tr>\n",
       "      <th>4</th>\n",
       "      <td>Norsup</td>\n",
       "      <td>-16.07</td>\n",
       "      <td>167.39</td>\n",
       "    </tr>\n",
       "  </tbody>\n",
       "</table>\n",
       "</div>"
      ],
      "text/plain": [
       "         name    lat     lon\n",
       "0     Isangel -19.53  169.28\n",
       "1    Lakatoro -16.09  167.40\n",
       "2     Longana -15.30  168.00\n",
       "3  Luganville -15.51  167.15\n",
       "4      Norsup -16.07  167.39"
      ]
     },
     "execution_count": 59,
     "metadata": {},
     "output_type": "execute_result"
    }
   ],
   "source": [
    "cities = pd.read_csv('cities/vanuatu.csv', header=None, names=['name', 'lat', 'lon'])\n",
    "cities.head()"
   ]
  },
  {
   "cell_type": "code",
   "execution_count": 95,
   "metadata": {},
   "outputs": [],
   "source": [
    "dist_matrix = np.zeros((len(cities), len(cities)), dtype=tuple)\n",
    "for c1, c2 in combinations(cities.itertuples(), 2):\n",
    "    dist_matrix[c1.Index, c2.Index] = (geopy.distance.geodesic(\n",
    "        (c1.lat, c1.lon), (c2.lat, c2.lon)\n",
    "    ).km, c2.Index)\n",
    "    dist_matrix[c2.Index, c1.Index] = (geopy.distance.geodesic(\n",
    "        (c1.lat, c1.lon), (c2.lat, c2.lon)\n",
    "    ).km, c1.Index)"
   ]
  },
  {
   "cell_type": "markdown",
   "metadata": {},
   "source": [
    "# Fast Resolution\n",
    "\n",
    "Calculating the closest city starting from the first"
   ]
  },
  {
   "cell_type": "code",
   "execution_count": 107,
   "metadata": {},
   "outputs": [
    {
     "name": "stdout",
     "output_type": "stream",
     "text": [
      "step: Isangel -> Isangel (223.00km)\n",
      "step: Vila -> Vila (206.74km)\n",
      "step: Lakatoro -> Lakatoro (2.46km)\n",
      "step: Norsup -> Norsup (67.09km)\n",
      "step: Luganville -> Luganville (52.02km)\n",
      "step: Port Olry -> Port Olry (105.77km)\n",
      "step: Longana -> Longana (165.49km)\n",
      "step: Sola -> Isangel (652.96km)\n",
      "Number of steps: 8 , Total lenght: 1475.5280911045297 \n"
     ]
    }
   ],
   "source": [
    "visited = np.full(len(cities), False)\n",
    "curr_city_i = 0\n",
    "visited[curr_city_i] = True\n",
    "path = list()\n",
    "path.append(curr_city_i)\n",
    "while not np.all(visited):\n",
    "\n",
    "    next_city_tup= np.min(dist_matrix[curr_city_i,np.logical_not(visited)])\n",
    "    next_city_i = next_city_tup[1]\n",
    "    curr_city_i= next_city_i\n",
    "    path.append(curr_city_i)\n",
    "    visited[curr_city_i] = True\n",
    "\n",
    "tot_dist = 0\n",
    "for i in range(len(path)):\n",
    "    if i < len(path) -1:\n",
    "        print(f\"step: {cities.at[path[i],'name']} -> {cities.at[path[i],'name']} ({dist_matrix[path[i],path[i+1]][0]:.2f}km)\")\n",
    "        tot_dist += dist_matrix[path[i],path[i+1]][0]\n",
    "    else:\n",
    "        print(f\"step: {cities.at[path[i],'name']} -> {cities.at[0,'name']} ({dist_matrix[path[i],0][0]:.2f}km)\")\n",
    "        tot_dist += dist_matrix[path[i],path[0]][0]\n",
    "\n",
    "print(f\"Number of steps: {len(path)} , Total lenght: {tot_dist} \")\n"
   ]
  }
 ],
 "metadata": {
  "kernelspec": {
   "display_name": "CI2024_lab1",
   "language": "python",
   "name": "python3"
  },
  "language_info": {
   "codemirror_mode": {
    "name": "ipython",
    "version": 3
   },
   "file_extension": ".py",
   "mimetype": "text/x-python",
   "name": "python",
   "nbconvert_exporter": "python",
   "pygments_lexer": "ipython3",
   "version": "3.9.13"
  }
 },
 "nbformat": 4,
 "nbformat_minor": 2
}
